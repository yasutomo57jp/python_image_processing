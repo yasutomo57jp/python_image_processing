{
 "metadata": {
  "name": "",
  "signature": "sha256:5502cac2a8dfdd5c34a958ef7321a3f7601c705f0c504c23aac19dfb01f6a23a"
 },
 "nbformat": 3,
 "nbformat_minor": 0,
 "worksheets": [
  {
   "cells": [
    {
     "cell_type": "markdown",
     "metadata": {
      "internals": {
       "slide_helper": "subslide_end",
       "slide_type": "subslide"
      },
      "slide_helper": "slide_end",
      "slideshow": {
       "slide_type": "slide"
      }
     },
     "source": [
      "# \u7814\u7a76\u306b\u304a\u3044\u3066\u3088\u304f\u3084\u308b\u4f5c\u696d\u306e\u30a4\u30c7\u30a3\u30aa\u30e0\u3092\u7d39\u4ecb\n",
      "\n",
      "* \u30d1\u30e9\u30e1\u30fc\u30bf\u3092\u5909\u3048\u3066\u5b9f\u9a13\n",
      "* \u5b9f\u9a13\u7d50\u679c\u306e\u96c6\u8a08\n",
      "* \u5b9f\u9a13\u7d50\u679c\u30d5\u30a1\u30a4\u30eb\u306e\u6574\u7406\n",
      "* \u5b9f\u9a13\u7d50\u679c\u306e\u53ef\u8996\u5316"
     ]
    },
    {
     "cell_type": "markdown",
     "metadata": {
      "internals": {
       "slide_type": "subslide"
      },
      "slideshow": {
       "slide_type": "slide"
      }
     },
     "source": [
      "# \u30d1\u30e9\u30e1\u30fc\u30bf\u3092\u5909\u3048\u3066\u5b9f\u9a13\n",
      "\n",
      "\u3042\u308b\u30d7\u30ed\u30b0\u30e9\u30e0 ./program \u306b\u5bfe\u3057\uff0c\u7b2c1\u5f15\u6570\u306b\u753b\u50cf 000.jpg \u304b\u3089 999.jpg \u307e\u3067\u5909\u3048\u306a\u304c\u3089\u5b9f\u9a13\u3057\u305f\u3044\u6642"
     ]
    },
    {
     "cell_type": "code",
     "collapsed": false,
     "input": [
      "import os\n",
      "\n",
      "for x in range(1000):\n",
      "    cmd_str = \"./program %03d.jpg\" % x\n",
      "    \n",
      "    # \u4e0e\u3048\u3089\u308c\u305f\u6587\u5b57\u5217\u306e\u30b3\u30de\u30f3\u30c9\u3092\u5b9f\u884c\u3059\u308b\u95a2\u6570\n",
      "    os.system(cmd_str)"
     ],
     "language": "python",
     "metadata": {
      "internals": {},
      "slideshow": {
       "slide_type": "-"
      }
     },
     "outputs": [],
     "prompt_number": 35
    },
    {
     "cell_type": "code",
     "collapsed": false,
     "input": [
      "parameters = [\"abc\", \"def\", \"ghi\", \"jkl\", \"mno\"]\n",
      "\n",
      "for parameter in parameters:\n",
      "    cmd_str = \"./program --param %s\" % param eter\n",
      "    \n",
      "    # \u4e0e\u3048\u3089\u308c\u305f\u6587\u5b57\u5217\u306e\u30b3\u30de\u30f3\u30c9\u3092\u5b9f\u884c\u3059\u308b\u95a2\u6570\n",
      "    os.system(cmd_str)"
     ],
     "language": "python",
     "metadata": {
      "internals": {
       "slide_helper": "subslide_end"
      },
      "slide_helper": "subslide_end",
      "slideshow": {
       "slide_type": "-"
      }
     },
     "outputs": [],
     "prompt_number": 35
    },
    {
     "cell_type": "markdown",
     "metadata": {
      "internals": {
       "frag_helper": "fragment_end",
       "frag_number": 3,
       "slide_type": "subslide"
      },
      "slideshow": {
       "slide_type": "subslide"
      }
     },
     "source": [
      "# Python tips\n",
      "\n",
      "## \u30e2\u30b8\u30e5\u30fc\u30eb\u306e\u30a4\u30f3\u30dd\u30fc\u30c8"
     ]
    },
    {
     "cell_type": "code",
     "collapsed": false,
     "input": [
      "import \u30e2\u30b8\u30e5\u30fc\u30eb\u540d"
     ],
     "language": "python",
     "metadata": {
      "internals": {
       "frag_helper": "fragment_end",
       "frag_number": 3
      },
      "slideshow": {
       "slide_type": "-"
      }
     },
     "outputs": [],
     "prompt_number": 36
    },
    {
     "cell_type": "markdown",
     "metadata": {
      "internals": {},
      "slideshow": {
       "slide_type": "-"
      }
     },
     "source": [
      "* \u3053\u308c\u3067\u30e2\u30b8\u30e5\u30fc\u30eb\u304c\u8aad\u307f\u8fbc\u307e\u308c\u308b\uff0e\n",
      "* \u30e2\u30b8\u30e5\u30fc\u30eb\u306f\u968e\u5c64\u7684\u306b\u306a\u3063\u3066\u3044\u308b\u5834\u5408\u304c\u3042\u308b\uff0e\n",
      "    * \u305d\u306e\u5834\u5408\u306f \".\" \u3067\u3064\u306a\u3052\u3066\u4f7f\u3046"
     ]
    },
    {
     "cell_type": "code",
     "collapsed": false,
     "input": [
      "import \u30e2\u30b8\u30e5\u30fc\u30eb\u540d.\u30b5\u30d6\u30e2\u30b8\u30e5\u30fc\u30eb\u540d"
     ],
     "language": "python",
     "metadata": {
      "internals": {
       "slide_helper": "subslide_end"
      },
      "slide_helper": "subslide_end",
      "slideshow": {
       "slide_type": "-"
      }
     },
     "outputs": []
    },
    {
     "cell_type": "markdown",
     "metadata": {
      "internals": {
       "slide_type": "subslide"
      },
      "slideshow": {
       "slide_type": "subslide"
      }
     },
     "source": [
      "# Python tips\n",
      "## \u6587\u5b57\u5217\u5316\n",
      "\n",
      "C\u8a00\u8a9e\u306e sprintf \u7684\u306a\u3084\u308a\u65b9\u3067\u6570\u5024\u306a\u3069\u3092\u6587\u5b57\u5217\u306b\u6574\u5f62\u3067\u304d\u308b"
     ]
    },
    {
     "cell_type": "code",
     "collapsed": false,
     "input": [
      "x = 10\n",
      "y = 0.5\n",
      "\n",
      "# C\u8a00\u8a9e\u7684\u306a\u66f8\u304d\u65b9\n",
      "result1 = \"result: x = %02d\"   % x\n",
      "\n",
      "# \u8907\u6570\u306e\u5834\u5408\u306f\u30bf\u30d7\u30eb\u3067\u6e21\u3059\n",
      "result2 = \"result: x = %02d, y = %f\" % (x, y)\n",
      "\n",
      "# \u540d\u524d\u4ed8\u304d\u306b\u3082\u51fa\u6765\u308b\n",
      "# \u305d\u306e\u5834\u5408\u306f\u5f15\u6570\u306f\u8f9e\u66f8\u3067\u6e21\u3059\n",
      "result3 = \"result: x = %(xvalue)02d, y=%(yvalue)f\" % {'xvalue': x, 'yvalue': y}"
     ],
     "language": "python",
     "metadata": {
      "internals": {
       "slide_helper": "subslide_end"
      },
      "slide_helper": "slide_end",
      "slideshow": {
       "slide_type": "-"
      }
     },
     "outputs": [],
     "prompt_number": 34
    },
    {
     "cell_type": "markdown",
     "metadata": {
      "internals": {
       "slide_helper": "subslide_end",
       "slide_type": "subslide"
      },
      "slide_helper": "slide_end",
      "slideshow": {
       "slide_type": "slide"
      }
     },
     "source": [
      "# \u5b9f\u9a13\u7d50\u679c\u30d5\u30a1\u30a4\u30eb\u306e\u6574\u7406\n",
      "\n",
      "* \u30d5\u30a9\u30eb\u30c0\u3084\u62e1\u5f35\u5b50\u3092\u5909\u66f4\u3057\u305f\u3044\n",
      "* \u30d5\u30a1\u30a4\u30eb\u756a\u53f7\u3092\u632f\u308a\u76f4\u3057\u305f\u3044"
     ]
    },
    {
     "cell_type": "markdown",
     "metadata": {
      "internals": {
       "frag_helper": "fragment_end",
       "frag_number": 1,
       "slide_type": "subslide"
      },
      "slideshow": {
       "slide_type": "slide"
      }
     },
     "source": [
      "# \u30d5\u30a9\u30eb\u30c0\u3084\u62e1\u5f35\u5b50\u3092\u5909\u66f4\u3057\u305f\u3044\n",
      "## \u30d5\u30a9\u30eb\u30c0\u306e\u5909\u66f4"
     ]
    },
    {
     "cell_type": "code",
     "collapsed": false,
     "input": [
      "import os\n",
      "import os.path\n",
      "\n",
      "oldfilename = \"src/ data.txt\"\n",
      "dstdir = \"dst\"\n",
      "\n",
      "directory, filename = os.path.split(oldfilename)\n",
      "\n",
      "# \u5148\u30c7\u30a3\u30ec\u30af\u30c8\u30ea\u304c\u306a\u3051\u308c\u3070\u4f5c\u6210\n",
      "if not os.path.exists(dstdir):\n",
      "    os.makedirs(dstdir)\n",
      "newfilename = os.path.join(dstdir, filename)\n",
      "\n",
      "#os.renames(oldfilename, newfilename)\n",
      "print(oldfilename, \" to \", newfilename)"
     ],
     "language": "python",
     "metadata": {
      "internals": {
       "frag_helper": "fragment_end",
       "frag_number": 3,
       "slide_helper": "subslide_end"
      },
      "slide_helper": "subslide_end",
      "slideshow": {
       "slide_type": "-"
      }
     },
     "outputs": [
      {
       "output_type": "stream",
       "stream": "stdout",
       "text": [
        "src/data.txt  to  dst/data.txt\n"
       ]
      }
     ],
     "prompt_number": 33
    },
    {
     "cell_type": "markdown",
     "metadata": {
      "internals": {
       "frag_helper": "fragment_end",
       "frag_number": 3,
       "slide_type": "subslide"
      },
      "slideshow": {
       "slide_type": "subslide"
      }
     },
     "source": [
      "# Python tips\n",
      "## \u591a\u91cd\u4ee3\u5165\n",
      "\n",
      "* Python\u3067\u306f\u8907\u6570\u306e\u5909\u6570\u3092\u540c\u6642\u306b\u4ee3\u5165\u3067\u304d\u308b\n",
      "* \u914d\u5217\u3092\u8907\u6570\u306e\u5909\u6570\u306b\u5c55\u958b\u3057\u306a\u304c\u3089\u4ee3\u5165\u3082\u3067\u304d\u308b\n",
      "* \u5024\u306e\u30b9\u30ef\u30c3\u30d7\u3082\u7c21\u5358"
     ]
    },
    {
     "cell_type": "code",
     "collapsed": false,
     "input": [
      "a, b = 10, 20\n",
      "x, y = [100, 200]\n",
      "\n",
      "i = 1\n",
      "j= 2\n",
      "i, j = j, i\n",
      "print(\"i=%d, j=%d\" % (i, j))"
     ],
     "language": "python",
     "metadata": {
      "internals": {
       "frag_helper": "fragment_end",
       "frag_number": 3,
       "slide_helper": "subslide_end"
      },
      "slide_helper": "slide_end",
      "slideshow": {
       "slide_type": "-"
      }
     },
     "outputs": [
      {
       "output_type": "stream",
       "stream": "stdout",
       "text": [
        "i=2, j=1\n"
       ]
      }
     ],
     "prompt_number": 93
    },
    {
     "cell_type": "markdown",
     "metadata": {
      "internals": {
       "frag_helper": "fragment_end",
       "frag_number": 17,
       "slide_type": "subslide"
      },
      "slideshow": {
       "slide_type": "slide"
      }
     },
     "source": [
      "# \u30d5\u30a9\u30eb\u30c0\u3084\u62e1\u5f35\u5b50\u3092\u5909\u66f4\u3057\u305f\u3044\n",
      "## \u62e1\u5f35\u5b50\u306e\u5909\u66f4\n",
      "\n",
      "* \u4f8b\u3048\u3070\uff0c\u3042\u308b\u30c6\u30ad\u30b9\u30c8\u30d5\u30a1\u30a4\u30eb\u3092\u8aad\u307f\u8fbc\u3093\u3067\uff0c\u51e6\u7406\u7d50\u679c\u3092CSV\u30d5\u30a1\u30a4\u30eb\u306b\u66f8\u304d\u51fa\u3057\u305f\u3044\u5834\u5408"
     ]
    },
    {
     "cell_type": "code",
     "collapsed": false,
     "input": [
      "import os.path\n",
      "\n",
      "oldfilename = \"old/file/name.txt\"\n",
      "\n",
      "# \u30d5\u30a1\u30a4\u30eb\u30d1\u30b9\u3092\uff0c\u62e1\u5f35\u5b50\u4ee5\u5916\u306e\u90e8\u5206\u3068\u62e1\u5f35\u5b50\u3078\u3068\u5206\u5272\n",
      "name, ext = os.path.splitext(oldfilename)\n",
      "newfilename2 = name + \".csv\"\n",
      "\n",
      "#os.renames(oldfilename, newfilename)\n",
      "print(oldfilename,\" to \", newfilename2)"
     ],
     "language": "python",
     "metadata": {
      "internals": {
       "frag_helper": "fragment_end",
       "frag_number": 17,
       "slide_helper": "subslide_end"
      },
      "slide_helper": "slide_end",
      "slideshow": {
       "slide_type": "-"
      }
     },
     "outputs": [
      {
       "output_type": "stream",
       "stream": "stdout",
       "text": [
        "old/file/name.txt  to  old/file/name.csv\n"
       ]
      }
     ],
     "prompt_number": 34
    },
    {
     "cell_type": "markdown",
     "metadata": {
      "internals": {
       "frag_helper": "fragment_end",
       "frag_number": 17,
       "slide_helper": "subslide_end",
       "slide_type": "subslide"
      },
      "slide_helper": "slide_end",
      "slideshow": {
       "slide_type": "slide"
      }
     },
     "source": [
      "# \u5b9f\u9a13\u7d50\u679c\u306e\u96c6\u8a08\n",
      "* \u30d5\u30a1\u30a4\u30eb\u306e\u8aad\u307f\u66f8\u304d\n",
      "    * \u8aad\u307f\u8fbc\u307f\n",
      "    * \u307e\u3068\u3081\u3066\u8aad\u307f\u8fbc\u307f\n",
      "    * \u66f8\u304d\u8fbc\u307f\n",
      "* CSV\u3084Matlab\u306e\u30d5\u30a1\u30a4\u30eb\u8aad\u307f\u66f8\u304d"
     ]
    },
    {
     "cell_type": "markdown",
     "metadata": {
      "internals": {
       "frag_helper": "fragment_end",
       "frag_number": 17,
       "slide_type": "subslide"
      },
      "slideshow": {
       "slide_type": "slide"
      }
     },
     "source": [
      "# \u8aad\u307f\u8fbc\u307f\n",
      "## 1\u884c\u305a\u3064\u8aad\u307f\u8fbc\u3093\u3067\u51e6\u7406\u3059\u308b\u3068\u304d\u306e\u30a4\u30c7\u30a3\u30aa\u30e0\n",
      "\n",
      "* with \u306f\u30d5\u30a1\u30a4\u30eb\u30aa\u30fc\u30d7\u30f3\u301c\u30af\u30ed\u30fc\u30ba\u307e\u3067\u3084\u3063\u3066\u304f\u308c\u308b\n",
      "* \u6539\u884c\u307e\u3067\u3092\u8aad\u307f\u8fbc\u3080\u306e\u3067 line.strip() \u3067\u7aef\u306e\u6539\u884c\u3092\u9664\u53bb\u3059\u308b"
     ]
    },
    {
     "cell_type": "code",
     "collapsed": false,
     "input": [
      "with open(\"input.txt\") as fin:\n",
      "    for line in fin:\n",
      "        print(line.strip())"
     ],
     "language": "python",
     "metadata": {
      "internals": {
       "frag_helper": "fragment_end",
       "frag_number": 17,
       "slide_helper": "subslide_end"
      },
      "slide_helper": "subslide_end",
      "slideshow": {
       "slide_type": "-"
      }
     },
     "outputs": [
      {
       "output_type": "stream",
       "stream": "stdout",
       "text": [
        "\u30a4\u30f3\u30d7\u30c3\u30c8\u30d5\u30a1\u30a4\u30eb\n",
        "\u3053\u308c\u306f2\u884c\u76ee\n",
        "3\u884c\u76ee\u3067\u3059\n"
       ]
      }
     ],
     "prompt_number": 48
    },
    {
     "cell_type": "markdown",
     "metadata": {
      "internals": {
       "slide_type": "subslide"
      },
      "slideshow": {
       "slide_type": "subslide"
      }
     },
     "source": [
      "# Python Tips\n",
      "## with\u6587\n",
      "\n",
      "* with\u306e\u30d6\u30ed\u30c3\u30af\u3092\u629c\u3051\u308b\u3068\u304d\u306b\u81ea\u52d5\u7684\u306b close() \u304c\u5b9f\u884c\u3055\u308c\u308b\uff0e\n",
      "* \u4f8b\u3048\u3070\uff0c\u81ea\u52d5\u7684\u306b\u30d5\u30a1\u30a4\u30eb\u3092\u30af\u30ed\u30fc\u30ba\u3059\u308b\n",
      "\n",
      "with\u3092\u4f7f\u308f\u306a\u3044\u5834\u5408"
     ]
    },
    {
     "cell_type": "code",
     "collapsed": false,
     "input": [
      "fin = open(\"input.txt\")\n",
      "for line in fin:\n",
      "    print(line.strip())\n",
      "fin.close()"
     ],
     "language": "python",
     "metadata": {
      "internals": {
       "slide_helper": "subslide_end"
      },
      "slide_helper": "slide_end",
      "slideshow": {
       "slide_type": "-"
      }
     },
     "outputs": [
      {
       "output_type": "stream",
       "stream": "stdout",
       "text": [
        "\u30a4\u30f3\u30d7\u30c3\u30c8\u30d5\u30a1\u30a4\u30eb\n",
        "\u3053\u308c\u306f2\u884c\u76ee\n",
        "3\u884c\u76ee\u3067\u3059\n"
       ]
      }
     ],
     "prompt_number": 51
    },
    {
     "cell_type": "markdown",
     "metadata": {
      "internals": {
       "frag_helper": "fragment_end",
       "frag_number": 17,
       "slide_type": "subslide"
      },
      "slideshow": {
       "slide_type": "slide"
      }
     },
     "source": [
      "# \u8aad\u307f\u8fbc\u307f\n",
      "## \u307e\u3068\u3081\u3066\u8aad\u307f\u8fbc\u3080\u3068\u304d\u306e\u30a4\u30c7\u30a3\u30aa\u30e0\n",
      "\uff11\u884c\u3054\u3068\u306b\u914d\u5217\u306b\u5165\u308b"
     ]
    },
    {
     "cell_type": "code",
     "collapsed": false,
     "input": [
      "with open(\"input.txt\") as fin:\n",
      "    lines = fin.readlines()\n",
      "\n",
      "for line in lines:\n",
      "    # \uff11\u884c\u3054\u3068\u306e\u51e6\u7406\u306a\u3069\n",
      "    print(line.strip())"
     ],
     "language": "python",
     "metadata": {
      "internals": {
       "frag_helper": "fragment_end",
       "frag_number": 17,
       "slide_helper": "subslide_end"
      },
      "slide_helper": "slide_end",
      "slideshow": {
       "slide_type": "-"
      }
     },
     "outputs": [
      {
       "output_type": "stream",
       "stream": "stdout",
       "text": [
        "\u30a4\u30f3\u30d7\u30c3\u30c8\u30d5\u30a1\u30a4\u30eb\n",
        "\u3053\u308c\u306f2\u884c\u76ee\n",
        "3\u884c\u76ee\u3067\u3059\n"
       ]
      }
     ],
     "prompt_number": 50
    },
    {
     "cell_type": "markdown",
     "metadata": {
      "internals": {
       "frag_helper": "fragment_end",
       "frag_number": 17,
       "slide_type": "subslide"
      },
      "slideshow": {
       "slide_type": "slide"
      }
     },
     "source": [
      "# \u66f8\u304d\u8fbc\u307f"
     ]
    },
    {
     "cell_type": "code",
     "collapsed": false,
     "input": [
      "with open(\"output.txt\", \"w\") as fout:\n",
      "   for l in lines:\n",
      "        print(l, file=fout)"
     ],
     "language": "python",
     "metadata": {
      "internals": {
       "frag_helper": "fragment_end",
       "frag_number": 17
      },
      "slideshow": {
       "slide_type": "-"
      }
     },
     "outputs": []
    },
    {
     "cell_type": "markdown",
     "metadata": {
      "internals": {
       "slide_helper": "subslide_end"
      },
      "slide_helper": "slide_end",
      "slideshow": {
       "slide_type": "-"
      }
     },
     "source": [
      "* \u30d5\u30a1\u30a4\u30eb\u3092\u66f8\u304d\u8fbc\u307f\u30e2\u30fc\u30c9\u3067\u30aa\u30fc\u30d7\u30f3\n",
      "* print\u95a2\u6570\u306e\u5f15\u6570 file \u306b\u30d5\u30a1\u30a4\u30eb\u30aa\u30d6\u30b8\u30a7\u30af\u30c8\u3092\u6e21\u3059"
     ]
    },
    {
     "cell_type": "markdown",
     "metadata": {
      "internals": {
       "frag_helper": "fragment_end",
       "frag_number": 17,
       "slide_helper": "subslide_end",
       "slide_type": "subslide"
      },
      "slide_helper": "slide_end",
      "slideshow": {
       "slide_type": "slide"
      }
     },
     "source": [
      "## CSV\u30d5\u30a1\u30a4\u30eb\u306a\u3069\u306e\u8aad\u307f\u8fbc\u307f\n",
      "* \u666e\u901a\u306b\u8aad\u307f\u8fbc\u3080\n",
      "* \u5c02\u7528\u306e\u95a2\u6570\u3092\u4f7f\u3046\n",
      "    * CSV\u306e\u8aad\u307f\u8fbc\u307f\n",
      "    * Matlab\u30d5\u30a1\u30a4\u30eb\u306e\u8aad\u307f\u8fbc\u307f"
     ]
    },
    {
     "cell_type": "markdown",
     "metadata": {
      "internals": {
       "frag_helper": "fragment_end",
       "frag_number": 17,
       "slide_type": "subslide"
      },
      "slideshow": {
       "slide_type": "slide"
      }
     },
     "source": [
      "### \u666e\u901a\u306b\u8aad\u307f\u8fbc\u3080\u5834\u5408\n",
      "\n",
      "\u6ce8\u610f\uff1a\u3053\u306e\u4f8b\u3067\u306f\uff0c\u6570\u5024\u306f\u300c,\u300d\u3067\u533a\u5207\u3089\u308c\u3066\u3044\u3066\uff0c\u4f59\u8a08\u306a\u30b9\u30da\u30fc\u30b9\u7b49\u306f\u7121\u3044\u3053\u3068\u3092\u60f3\u5b9a"
     ]
    },
    {
     "cell_type": "code",
     "collapsed": false,
     "input": [
      "data = []\n",
      "with open(\"data.csv\") as fin:\n",
      "    for line in fin:\n",
      "        dline = map(int, line.strip().split(\",\"))\n",
      "        data.append(list(dline))\n",
      "print(data) "
     ],
     "language": "python",
     "metadata": {
      "internals": {
       "frag_helper": "fragment_end",
       "frag_number": 17,
       "slide_helper": "subslide_end"
      },
      "slide_helper": "subslide_end",
      "slideshow": {
       "slide_type": "-"
      }
     },
     "outputs": [
      {
       "output_type": "stream",
       "stream": "stdout",
       "text": [
        "[[0, 1, 2, 3, 4], [2, 3, 4, 5, 6], [4, 5, 6, 7, 8]]\n"
       ]
      }
     ],
     "prompt_number": 63
    },
    {
     "cell_type": "markdown",
     "metadata": {
      "internals": {
       "slide_type": "subslide"
      },
      "slideshow": {
       "slide_type": "subslide"
      }
     },
     "source": [
      "# Python Tips\n",
      "## \u6587\u5b57\u5217\u306e\u5206\u5272"
     ]
    },
    {
     "cell_type": "code",
     "collapsed": false,
     "input": [
      "line = \"0,1,2,3,4,5,6,7,8,9\"\n",
      "\n",
      "# \u30ab\u30f3\u30de\u3067\u533a\u5207\u3063\u3066\u914d\u5217\u306b\n",
      "arr = line.split(\",\")\n",
      "print(arr)"
     ],
     "language": "python",
     "metadata": {
      "internals": {
       "slide_helper": "subslide_end"
      },
      "slide_helper": "subslide_end",
      "slideshow": {
       "slide_type": "-"
      }
     },
     "outputs": [
      {
       "output_type": "stream",
       "stream": "stdout",
       "text": [
        "['0', '1', '2', '3', '4', '5', '6', '7', '8', '9']\n"
       ]
      }
     ],
     "prompt_number": 64
    },
    {
     "cell_type": "markdown",
     "metadata": {
      "internals": {
       "slide_type": "subslide"
      },
      "slideshow": {
       "slide_type": "subslide"
      }
     },
     "source": [
      "# Python Tips\n",
      "## \u6587\u5b57\u5217\u304b\u3089\u6570\u5b57\u306e\u5909\u63db"
     ]
    },
    {
     "cell_type": "code",
     "collapsed": false,
     "input": [
      "s = \"10\"\n",
      "a = int(s)\n",
      "\n",
      "s, a"
     ],
     "language": "python",
     "metadata": {
      "internals": {
       "slide_helper": "subslide_end"
      },
      "slide_helper": "subslide_end",
      "slideshow": {
       "slide_type": "-"
      }
     },
     "outputs": [
      {
       "metadata": {},
       "output_type": "pyout",
       "prompt_number": 67,
       "text": [
        "('10', 10)"
       ]
      }
     ],
     "prompt_number": 67
    },
    {
     "cell_type": "markdown",
     "metadata": {
      "internals": {
       "slide_type": "subslide"
      },
      "slideshow": {
       "slide_type": "subslide"
      }
     },
     "source": [
      "# Python Tips\n",
      "## \u30ea\u30b9\u30c8\u3078\u306e\u4e00\u62ec\u51e6\u7406\n",
      "\n",
      "* map\uff1a\u5404\u8981\u7d20\u306b1\u3064\u305a\u3064\u95a2\u6570\u3092\u9069\u7528\u3057\u305f\u7d50\u679c\uff08\u306e\u30a4\u30c6\u30ec\u30fc\u30bf\uff09\u3092\u8fd4\u3059\n",
      "* filter\uff1a\u5404\u8981\u7d20\u306b1\u3064\u305a\u3064\u95a2\u6570\u3092\u9069\u7528\u3057\u3066\u7d50\u679c\u304cTrue\u3060\u3063\u305f\u3082\u306e\uff08\u306e\u30a4\u30c6\u30ec\u30fc\u30bf\uff09\u3092\u8fd4\u3059"
     ]
    },
    {
     "cell_type": "code",
     "collapsed": false,
     "input": [
      "a = [\"0\", \"1\", \"2\", \"3\", \"4\", \"5\"]\n",
      "\n",
      "# a\u306e\u5168\u3066\u306e\u8981\u7d20\u306b int() \u3092\u9069\u7528\u3057\u305f\u7d50\u679c\u3092\u8fd4\u3059\n",
      "b = map(int, a)\n",
      "\n",
      "# \u5076\u6570\u306a\u3089True\u3092\u8fd4\u3059\u95a2\u6570\n",
      "def is_even(i):\n",
      "    return i %2 == 0\n",
      "\n",
      "# \u5076\u6570\u3060\u3051\u3092\u53d6\u308a\u51fa\u3059\n",
      "data = list(b)\n",
      "c = filter(is_even, data)\n",
      "\n",
      "a, data, list(c)"
     ],
     "language": "python",
     "metadata": {
      "internals": {
       "slide_helper": "subslide_end"
      },
      "slide_helper": "slide_end",
      "slideshow": {
       "slide_type": "-"
      }
     },
     "outputs": [
      {
       "metadata": {},
       "output_type": "pyout",
       "prompt_number": 84,
       "text": [
        "(['0', '1', '2', '3', '4', '5'], [0, 1, 2, 3, 4, 5], [0, 2, 4])"
       ]
      }
     ],
     "prompt_number": 84
    },
    {
     "cell_type": "markdown",
     "metadata": {
      "internals": {
       "frag_helper": "fragment_end",
       "frag_number": 17,
       "slide_type": "subslide"
      },
      "slideshow": {
       "slide_type": "slide"
      }
     },
     "source": [
      "### \u5c02\u7528\u306e\u95a2\u6570\u3092\u4f7f\u3063\u3066CSV\n",
      "\n",
      "numpy\u306a\u3069\u306e\u30e9\u30a4\u30d6\u30e9\u30ea\u306b\u306f\uff0cCSV\u306a\u3069\u306e\u8aad\u307f\u8fbc\u307f\u95a2\u6570\u304c\u7528\u610f\u3055\u308c\u3066\u3044\u308b\n",
      "\n",
      "\u3053\u306e\u3068\u304d\uff0c\u8aad\u307f\u8fbc\u3093\u3060\u30c7\u30fc\u30bf\u306f\uff0cpython\u6a19\u6e96\u306e\u30ea\u30b9\u30c8\u3067\u306f\u306a\u304f\uff0cnumpy.ndarray \u3068\u3044\u3046\u578b\u306b\u306a\u308b"
     ]
    },
    {
     "cell_type": "code",
     "collapsed": false,
     "input": [
      "# numpy \u306f\u4e00\u822c\u7684\u306b np \u3068\u3044\u3046\u5225\u540d\u3092\u3064\u3051\u3066\u8aad\u307f\u8fbc\u3080\n",
      "import numpy as np\n",
      "\n",
      "# \u533a\u5207\u308a\u6587\u5b57\u306f\u300c,\u300d\u3067\uff0c\u5024\u306e\u578b\u306f unsigned char\u76f8\u5f53\n",
      "data = np.loadtxt(\"data.csv\", delimiter=\",\", dtype=np.uint8)\n",
      "print(data)"
     ],
     "language": "python",
     "metadata": {
      "internals": {
       "frag_helper": "fragment_end",
       "frag_number": 17
      },
      "slideshow": {
       "slide_type": "-"
      }
     },
     "outputs": [
      {
       "output_type": "stream",
       "stream": "stdout",
       "text": [
        "[[0 1 2 3 4]\n",
        " [0 1 4 6 7]\n",
        " [0 3 5 7 8]\n",
        " [0 3 6 7 8]]\n"
       ]
      }
     ],
     "prompt_number": 45
    },
    {
     "cell_type": "markdown",
     "metadata": {
      "internals": {
       "frag_helper": "fragment_end",
       "frag_number": 17
      },
      "slideshow": {
       "slide_type": "-"
      }
     },
     "source": [
      "### \u5c02\u7528\u306e\u95a2\u6570\u3092\u4f7f\u3063\u3066Matlab\u306e\u30d5\u30a1\u30a4\u30eb\u3092\u8aad\u307f\u8fbc\u307f\n",
      "scipy.io \u30e2\u30b8\u30e5\u30fc\u30eb\u306b\u306fmatlab\u306e.mat\u30d5\u30a1\u30a4\u30eb\u3092\u8aad\u307f\u8fbc\u3080\u6a5f\u80fd\u3082\u3042\u308b"
     ]
    },
    {
     "cell_type": "code",
     "collapsed": false,
     "input": [
      "import scipy.io\n",
      "mat = scipy.io.loadmat('file.mat')"
     ],
     "language": "python",
     "metadata": {
      "internals": {
       "frag_helper": "fragment_end",
       "frag_number": 17,
       "slide_helper": "subslide_end"
      },
      "slide_helper": "slide_end",
      "slideshow": {
       "slide_type": "-"
      }
     },
     "outputs": []
    },
    {
     "cell_type": "markdown",
     "metadata": {
      "internals": {
       "frag_helper": "fragment_end",
       "frag_number": 17,
       "slide_type": "subslide"
      },
      "slideshow": {
       "slide_type": "slide"
      }
     },
     "source": [
      "# \u30d5\u30a1\u30a4\u30eb\u306b\u901a\u3057\u756a\u53f7\u3092\u632f\u308a\u76f4\u3057\u305f\u3044\n",
      "\n",
      "\u4f8b\u3048\u3070 a.txt b.txt c.txt ...\n",
      "\u3092\uff0c 001_a.txt 002_b.txt 003_c.txt \u2026 \u3078\u5909\u63db"
     ]
    },
    {
     "cell_type": "code",
     "collapsed": false,
     "input": [
      "import glob\n",
      "import os\n",
      "for i, src in enumerate(sorted(glob.glob(\"*.txt\"))):\n",
      "    dst = \"%03d\" % (i+1) + \"_\" + src\n",
      "    os.renames(src, dst)"
     ],
     "language": "python",
     "metadata": {
      "internals": {
       "frag_helper": "fragment_end",
       "frag_number": 17,
       "slide_helper": "subslide_end"
      },
      "slide_helper": "subslide_end",
      "slideshow": {
       "slide_type": "-"
      }
     },
     "outputs": [],
     "prompt_number": 40
    },
    {
     "cell_type": "markdown",
     "metadata": {
      "internals": {
       "slide_type": "subslide"
      },
      "slideshow": {
       "slide_type": "subslide"
      }
     },
     "source": [
      "# Python tips\n",
      "## glob\n",
      "\n",
      "* Unix\u30b7\u30a7\u30eb\u3067\u306e\u30d1\u30bf\u30fc\u30f3\u30de\u30c3\u30c1\u3067\u30d5\u30a1\u30a4\u30eb\u4e00\u89a7\u53d6\u5f97\u3059\u308b\n",
      "* glob.glob(\"*.txt\") \u3067\uff0c\u30d5\u30a1\u30a4\u30eb\u306e\u4e00\u89a7\u3092\u53d6\u5f97\n",
      "    * \u5fc5\u305a\u3057\u3082\u30bd\u30fc\u30c8\u3055\u308c\u3066\u3044\u306a\u3044\u306e\u3067\u6ce8\u610f"
     ]
    },
    {
     "cell_type": "code",
     "collapsed": false,
     "input": [
      "for x in glob.glob(\"*.txt\"):\n",
      "    print(x)"
     ],
     "language": "python",
     "metadata": {
      "internals": {},
      "slideshow": {
       "slide_type": "-"
      }
     },
     "outputs": [
      {
       "ename": "NameError",
       "evalue": "name 'glob' is not defined",
       "output_type": "pyerr",
       "traceback": [
        "\u001b[0;31m---------------------------------------------------------------------------\u001b[0m\n\u001b[0;31mNameError\u001b[0m                                 Traceback (most recent call last)",
        "\u001b[0;32m<ipython-input-46-806fd6430344>\u001b[0m in \u001b[0;36m<module>\u001b[0;34m()\u001b[0m\n\u001b[0;32m----> 1\u001b[0;31m \u001b[0;32mfor\u001b[0m \u001b[0mx\u001b[0m \u001b[0;32min\u001b[0m \u001b[0mglob\u001b[0m\u001b[0;34m.\u001b[0m\u001b[0mglob\u001b[0m\u001b[0;34m(\u001b[0m\u001b[0;34m\"*.txt\"\u001b[0m\u001b[0;34m)\u001b[0m\u001b[0;34m:\u001b[0m\u001b[0;34m\u001b[0m\u001b[0m\n\u001b[0m\u001b[1;32m      2\u001b[0m     \u001b[0mprint\u001b[0m\u001b[0;34m(\u001b[0m\u001b[0mx\u001b[0m\u001b[0;34m)\u001b[0m\u001b[0;34m\u001b[0m\u001b[0m\n",
        "\u001b[0;31mNameError\u001b[0m: name 'glob' is not defined"
       ]
      }
     ],
     "prompt_number": 46
    },
    {
     "cell_type": "markdown",
     "metadata": {
      "internals": {},
      "slideshow": {
       "slide_type": "-"
      }
     },
     "source": [
      "## sorted\n",
      "\n",
      "* \u30a4\u30c6\u30ec\u30fc\u30bf\u306b\u5bfe\u3057\u3066\uff0c\u30bd\u30fc\u30c8\u3057\u305f\u30a4\u30c6\u30ec\u30fc\u30bf\u3092\u8fd4\u3059"
     ]
    },
    {
     "cell_type": "code",
     "collapsed": false,
     "input": [
      "for x in sorted(glob.glob(\"*.txt\")):\n",
      "    print(x)"
     ],
     "language": "python",
     "metadata": {
      "internals": {
       "slide_helper": "subslide_end"
      },
      "slide_helper": "subslide_end",
      "slideshow": {
       "slide_type": "-"
      }
     },
     "outputs": [
      {
       "output_type": "stream",
       "stream": "stdout",
       "text": [
        "abc.txt\n",
        "def.txt\n",
        "ghi.txt\n",
        "jkl.txt\n",
        "mno.txt\n"
       ]
      }
     ],
     "prompt_number": 42
    },
    {
     "cell_type": "markdown",
     "metadata": {
      "internals": {
       "slide_type": "subslide"
      },
      "slideshow": {
       "slide_type": "subslide"
      }
     },
     "source": [
      "# Python tips\n",
      "## enumerate\n",
      "\n",
      "* \u30a4\u30c6\u30ec\u30fc\u30bf\u306b\u5bfe\u3057\u3066\uff0c\u756a\u53f7\u3092\u7d44\u306b\u3057\u305f\u30a4\u30c6\u30ec\u30fc\u30bf\u3092\u8fd4\u3059"
     ]
    },
    {
     "cell_type": "code",
     "collapsed": false,
     "input": [
      "data = [\"abc\", \"def\", \"ghi\", \"jkl\", \"mno\"]\n",
      "\n",
      "for x in data:\n",
      "    print(x)  "
     ],
     "language": "python",
     "metadata": {
      "internals": {},
      "slideshow": {
       "slide_type": "-"
      }
     },
     "outputs": [
      {
       "output_type": "stream",
       "stream": "stdout",
       "text": [
        "abc\n",
        "def\n",
        "ghi\n",
        "jkl\n",
        "mno\n"
       ]
      }
     ],
     "prompt_number": 37
    },
    {
     "cell_type": "code",
     "collapsed": false,
     "input": [
      "for i, x in enumerate(data):\n",
      "    print(\"%d \u756a\u76ee\u306e\u5024\u306f\" % i, x)"
     ],
     "language": "python",
     "metadata": {
      "internals": {
       "slide_helper": "subslide_end"
      },
      "slide_helper": "slide_end",
      "slideshow": {
       "slide_type": "-"
      }
     },
     "outputs": [
      {
       "output_type": "stream",
       "stream": "stdout",
       "text": [
        "0 \u756a\u76ee\u306e\u5024\u306f abc\n",
        "1 \u756a\u76ee\u306e\u5024\u306f def\n",
        "2 \u756a\u76ee\u306e\u5024\u306f ghi\n",
        "3 \u756a\u76ee\u306e\u5024\u306f jkl\n",
        "4 \u756a\u76ee\u306e\u5024\u306f mno\n"
       ]
      }
     ],
     "prompt_number": 38
    },
    {
     "cell_type": "markdown",
     "metadata": {
      "internals": {
       "slide_helper": "subslide_end",
       "slide_type": "subslide"
      },
      "slide_helper": "slide_end",
      "slideshow": {
       "slide_type": "slide"
      }
     },
     "source": [
      "# numpy \u306b\u3064\u3044\u3066\n",
      "\n",
      "* \u6570\u5024\u8a08\u7b97\u306e\u305f\u3081\u306e\u30e2\u30b8\u30e5\u30fc\u30eb\n",
      "* \u884c\u5217\u6f14\u7b97\u304c\u30e1\u30a4\u30f3\n",
      "    * matlab\u306e\u3088\u3046\u306a\u8a08\u7b97\uff0c\u884c\u5217\u306e\u6271\u3044\u304c\u53ef\u80fd"
     ]
    },
    {
     "cell_type": "markdown",
     "metadata": {
      "internals": {
       "slide_type": "subslide"
      },
      "slideshow": {
       "slide_type": "slide"
      }
     },
     "source": [
      "# Python \u306e\u30ea\u30b9\u30c8\u3068 numpy \u306e\u914d\u5217\n",
      "\n",
      "* Python \u306e\u30ea\u30b9\u30c8\u306f\u4f55\u578b\u3067\u3082\u5165\u308c\u3089\u308c\u308b\n",
      "    * \u305d\u306e\u4ee3\u308f\u308a\u51e6\u7406\u3059\u308b\u969b\u306e\u901f\u5ea6\u306f\u9045\u3044\n",
      "* numpy \u3067\u306f\u914d\u5217\u306e\u8981\u7d20\u306e\u578b\u3092\u6307\u5b9a\u3059\u308b\u3053\u3068\u3067\u52b9\u7387\u7684\u306b\u8a08\u7b97"
     ]
    },
    {
     "cell_type": "markdown",
     "metadata": {
      "internals": {},
      "slideshow": {
       "slide_type": "-"
      }
     },
     "source": [
      "## numpy \u306b\u3088\u308b\u914d\u5217\u306e\u6271\u3044\n",
      "\n",
      "* \u30c7\u30fc\u30bf\u306f np.ndarray \u578b\u3067\u6271\u3046\n",
      "* python\u306e\u30ea\u30b9\u30c8\u3092\u6e21\u3057\u3066\u751f\u6210\u3067\u304d\u308b\n",
      "* \u578b\u3092\u6307\u5b9a"
     ]
    },
    {
     "cell_type": "code",
     "collapsed": false,
     "input": [
      "import numpy as np\n",
      "x = np.array([1,2,3], dtype=np.float) # 1\u6b21\u5143\u914d\u5217\n",
      "y = np.array([[1,2,3], [4,5,6]], dtype=np.uint8) # 2\u6b21\u5143\u914d\u5217\uff08\u884c\u5217\uff09\n",
      "y"
     ],
     "language": "python",
     "metadata": {
      "internals": {},
      "slideshow": {
       "slide_type": "-"
      }
     },
     "outputs": [
      {
       "metadata": {},
       "output_type": "pyout",
       "prompt_number": 48,
       "text": [
        "array([[1, 2, 3],\n",
        "       [4, 5, 6]], dtype=uint8)"
       ]
      }
     ],
     "prompt_number": 48
    },
    {
     "cell_type": "markdown",
     "metadata": {
      "internals": {},
      "slideshow": {
       "slide_type": "-"
      }
     },
     "source": [
      "* \u884c\u5217\u306e\u4e00\u90e8\u3060\u3051\u53d6\u308a\u51fa\u3059\uff08\u30b9\u30e9\u30a4\u30b9\uff09\u7b49\u306ematlab\u7684\u306a\u51e6\u7406\u304c\u53ef\u80fd"
     ]
    },
    {
     "cell_type": "code",
     "collapsed": false,
     "input": [
      "z = y[:, 1:]\n",
      "z"
     ],
     "language": "python",
     "metadata": {
      "internals": {},
      "slideshow": {
       "slide_type": "-"
      }
     },
     "outputs": [
      {
       "metadata": {},
       "output_type": "pyout",
       "prompt_number": 49,
       "text": [
        "array([[2, 3],\n",
        "       [5, 6]], dtype=uint8)"
       ]
      }
     ],
     "prompt_number": 49
    },
    {
     "cell_type": "markdown",
     "metadata": {
      "internals": {
       "slide_helper": "subslide_end"
      },
      "slide_helper": "slide_end",
      "slideshow": {
       "slide_type": "-"
      }
     },
     "source": [
      "* \u884c\u5217\u306e\u548c\uff0c\u7a4d\uff0c\u9006\u884c\u5217\u305d\u306e\u4ed6\u8af8\u3005\u306e\u6f14\u7b97\u304c\u51fa\u6765\u307e\u3059"
     ]
    },
    {
     "cell_type": "markdown",
     "metadata": {
      "internals": {
       "frag_helper": "fragment_end",
       "frag_number": 17,
       "slide_helper": "subslide_end",
       "slide_type": "subslide"
      },
      "slide_helper": "slide_end",
      "slideshow": {
       "slide_type": "slide"
      }
     },
     "source": [
      "# \u5b9f\u9a13\u7d50\u679c\u306e\u53ef\u8996\u5316\n",
      "* matplotlib\u3092\u4f7f\u3063\u3066\u30b0\u30e9\u30d5\u3092\u63cf\u304f\n",
      "* ipython notebook\u3067\u305d\u306e\u307e\u307e\u30d7\u30ec\u30bc\u30f3\u30c6\u30fc\u30b7\u30e7\u30f3\u3059\u308b"
     ]
    },
    {
     "cell_type": "markdown",
     "metadata": {
      "internals": {
       "frag_helper": "fragment_end",
       "frag_number": 17,
       "slide_type": "subslide"
      },
      "slideshow": {
       "slide_type": "slide"
      }
     },
     "source": [
      "## matplotlib\u3092\u4f7f\u3063\u3066\u30b0\u30e9\u30d5\u3092\u63cf\u304f\n",
      "\n",
      "matplotlib \u306f\u30b0\u30e9\u30d5\u7b49\u306e\u63cf\u753b\u30e2\u30b8\u30e5\u30fc\u30eb\n",
      "\n",
      "* matlab\u30e9\u30a4\u30af\u306a\u6a5f\u80fd\u3092\u63d0\u4f9b\u3059\u308b matplotlib.pylab\n",
      "    * ipython notebook \u3067\u306f\u30c7\u30d5\u30a9\u30eb\u30c8\u3067\u5229\u7528\u3067\u304d\u308b\u3088\u3046\u306a\u8a2d\u5b9a\u304c\u3042\u308b"
     ]
    },
    {
     "cell_type": "code",
     "collapsed": false,
     "input": [
      "X = range(100) # 0\u301c99\u306e\u6570\u5217\u3092\u751f\u6210\n",
      "Y = [x ** 5 for x in X] # \u30ea\u30b9\u30c8\u5185\u5305\u8868\u8a18\n",
      "\n",
      "# \u30c7\u30fc\u30bf\u306e\u30d7\u30ed\u30c3\u30c8\n",
      "xlabel(\"X\")\n",
      "ylabel(\"Y\")\n",
      "plot(X, Y)\n",
      "\n",
      "# \u753b\u50cf\u3068\u3057\u3066\u4fdd\u5b58\n",
      "savefig(\"hoge.svg\")"
     ],
     "language": "python",
     "metadata": {
      "internals": {
       "frag_helper": "fragment_end",
       "frag_number": 17
      },
      "slideshow": {
       "slide_type": "-"
      }
     },
     "outputs": [
      {
       "metadata": {},
       "output_type": "display_data",
       "png": "[encoded data removed]",
       "text": [
        "<matplotlib.figure.Figure at 0x10bb54198>"
       ]
      }
     ],
     "prompt_number": 51
    },
    {
     "cell_type": "code",
     "collapsed": false,
     "input": [
      "X = rand(100)\n",
      "Y = rand(100)\n",
      "scatter(X, Y)"
     ],
     "language": "python",
     "metadata": {
      "internals": {
       "frag_helper": "fragment_end",
       "frag_number": 45,
       "slide_helper": "subslide_end"
      },
      "slide_helper": "slide_end",
      "slideshow": {
       "slide_type": "-"
      }
     },
     "outputs": [
      {
       "metadata": {},
       "output_type": "pyout",
       "prompt_number": 5,
       "text": [
        "<matplotlib.collections.PathCollection at 0x10b89fe10>"
       ]
      },
      {
       "metadata": {},
       "output_type": "display_data",
       "png": "[encoded data removed]",
       "text": [
        "<matplotlib.figure.Figure at 0x10b849240>"
       ]
      }
     ],
     "prompt_number": 5
    },
    {
     "cell_type": "markdown",
     "metadata": {
      "internals": {
       "slide_type": "subslide"
      },
      "slideshow": {
       "slide_type": "slide"
      }
     },
     "source": [
      "# numpy \u3092\u4f7f\u3063\u305f\u30c7\u30fc\u30bf\u306e\u96c6\u8a08\u3068\u53ef\u8996\u5316\n",
      "\n",
      "* \u30c7\u30fc\u30bf\u3092\u8aad\u307f\u8fbc\u3080"
     ]
    },
    {
     "cell_type": "code",
     "collapsed": false,
     "input": [
      "import numpy as np\n",
      "\n",
      "# \u533a\u5207\u308a\u6587\u5b57\u306f\u300c,\u300d\u3067\uff0c\u5024\u306e\u578b\u306f unsigned char\u76f8\u5f53\n",
      "data = np.loadtxt(\"data.csv\", delimiter=\",\", dtype=np.float)\n",
      "print(data)"
     ],
     "language": "python",
     "metadata": {
      "internals": {},
      "slideshow": {
       "slide_type": "-"
      }
     },
     "outputs": [
      {
       "output_type": "stream",
       "stream": "stdout",
       "text": [
        "[[ 0.   1.   2.   3.   4. ]\n",
        " [ 0.   1.5  4.   6.   7.5]\n",
        " [ 0.   3.   5.5  7.   8. ]\n",
        " [ 0.   3.5  6.   7.5  8. ]]\n"
       ]
      }
     ],
     "prompt_number": 39
    },
    {
     "cell_type": "markdown",
     "metadata": {
      "internals": {},
      "slideshow": {
       "slide_type": "-"
      }
     },
     "source": [
      "* \u8907\u6570\u306e\u30d5\u30a1\u30a4\u30eb\u304b\u3089\u8aad\u307f\u8fbc\u3080\u5834\u5408"
     ]
    },
    {
     "cell_type": "code",
     "collapsed": false,
     "input": [
      "import numpy as np\n",
      "\n",
      "data_list = []\n",
      "for i in range(4):\n",
      "    filename = \"data_%d.csv\" % i\n",
      "    with open(filename) as fin:\n",
      "        for line in fin:\n",
      "            data_line = list(map(float, line.split(\",\")))\n",
      "            data_list.append(data_line)\n",
      "\n",
      "# python \u306e list \u3092 numpy.ndarray \u3078\u5909\u63db\n",
      "data = np.asarray(data_list)\n",
      "            \n",
      "print(data)"
     ],
     "language": "python",
     "metadata": {
      "internals": {},
      "slideshow": {
       "slide_type": "-"
      }
     },
     "outputs": [
      {
       "output_type": "stream",
       "stream": "stdout",
       "text": [
        "[[ 0.   1.   2.   3.   4. ]\n",
        " [ 0.   1.5  4.   6.   7.5]\n",
        " [ 0.   3.   5.5  7.   8. ]\n",
        " [ 0.   3.5  6.   7.5  8. ]]\n"
       ]
      }
     ],
     "prompt_number": 40
    },
    {
     "cell_type": "markdown",
     "metadata": {
      "internals": {},
      "slideshow": {
       "slide_type": "-"
      }
     },
     "source": [
      "* \u30d7\u30ed\u30c3\u30c8\u3057\u3066\u307f\u308b"
     ]
    },
    {
     "cell_type": "code",
     "collapsed": false,
     "input": [
      "x = range(data.shape[1])\n",
      "for y in data:\n",
      "    plot(x, y)"
     ],
     "language": "python",
     "metadata": {
      "internals": {},
      "slideshow": {
       "slide_type": "-"
      }
     },
     "outputs": [
      {
       "metadata": {},
       "output_type": "display_data",
       "png": "[encoded data removed]",
       "text": [
        "<matplotlib.figure.Figure at 0x10bbf0160>"
       ]
      }
     ],
     "prompt_number": 41
    },
    {
     "cell_type": "markdown",
     "metadata": {
      "internals": {},
      "slideshow": {
       "slide_type": "-"
      }
     },
     "source": [
      "* \u5e73\u5747\u3092\u53d6\u3063\u3066\u307f\u308b"
     ]
    },
    {
     "cell_type": "code",
     "collapsed": false,
     "input": [
      "mean_data = np.mean(data, axis=0)\n",
      "mean_data"
     ],
     "language": "python",
     "metadata": {
      "internals": {},
      "slideshow": {
       "slide_type": "-"
      }
     },
     "outputs": [
      {
       "metadata": {},
       "output_type": "pyout",
       "prompt_number": 53,
       "text": [
        "array([ 0.  ,  2.  ,  4.25,  5.75,  6.75])"
       ]
      }
     ],
     "prompt_number": 53
    },
    {
     "cell_type": "code",
     "collapsed": false,
     "input": [
      "plot(x, mean_data)"
     ],
     "language": "python",
     "metadata": {
      "internals": {
       "slide_helper": "subslide_end"
      },
      "slide_helper": "slide_end",
      "slideshow": {
       "slide_type": "-"
      }
     },
     "outputs": [
      {
       "metadata": {},
       "output_type": "pyout",
       "prompt_number": 44,
       "text": [
        "[<matplotlib.lines.Line2D at 0x10b762f98>]"
       ]
      },
      {
       "metadata": {},
       "output_type": "display_data",
       "png": "[encoded data removed]",
       "text": [
        "<matplotlib.figure.Figure at 0x10b732ac8>"
       ]
      }
     ],
     "prompt_number": 44
    },
    {
     "cell_type": "markdown",
     "metadata": {
      "internals": {
       "frag_helper": "fragment_end",
       "frag_number": 45,
       "slide_type": "subslide"
      },
      "slideshow": {
       "slide_type": "slide"
      }
     },
     "source": [
      "## ipython notebook\u3067\u305d\u306e\u307e\u307e\u30d7\u30ec\u30bc\u30f3\u30c6\u30fc\u30b7\u30e7\u30f3\u3059\u308b\n",
      "\n",
      "* \u62e1\u5f35\u6a5f\u80fd\u306e live_reveal \u3092\u30a4\u30f3\u30b9\u30c8\u30fc\u30eb\u3059\u308b\u3068\uff0c\u305d\u306e\u307e\u307e\u30d7\u30ec\u30bc\u30f3\u3059\u308b\u3053\u3068\u304c\u53ef\u80fd\n",
      "    * https://github.com/damianavila/live_reveal\n",
      "    * \u62e1\u5f35\u6a5f\u80fd\u306a\u3057\u3067\u3082\uff0cHTML\u51fa\u529b\u3059\u308c\u3070\u30d7\u30ec\u30bc\u30f3\u306b\u4f7f\u3048\u308b\n",
      "* \u30d7\u30ec\u30bc\u30f3\u4e2d\u306b\u30b3\u30de\u30f3\u30c9\u5b9f\u884c\u3082\u53ef\u80fd"
     ]
    },
    {
     "cell_type": "code",
     "collapsed": false,
     "input": [],
     "language": "python",
     "metadata": {
      "internals": {
       "frag_helper": "fragment_end",
       "frag_number": 45,
       "slide_helper": "subslide_end"
      },
      "slide_helper": "slide_end",
      "slideshow": {
       "slide_type": "-"
      }
     },
     "outputs": []
    }
   ],
   "metadata": {}
  }
 ]
}